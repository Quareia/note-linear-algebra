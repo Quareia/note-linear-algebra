{
 "cells": [
  {
   "cell_type": "markdown",
   "metadata": {},
   "source": [
    "# chapter-08 求解$Ax=b$：可解性和解的结构\n",
    "\n",
    "## 对于$Ax=b$\n",
    "\n",
    "$\\left[\\begin{array}{c c c c | c}1&2&2&2&b_{1}\\\\2&4&6&8&b_{2}\\\\3&6&8&10&b_{3}\\end{array}\\right]\\xrightarrow{eliminate}\\left[\\begin{array}{c c c c | c}1&2&2&2&b_{1}\\\\0&0&2&4&b_{2}-2b_{1}\\\\0&0&0&0&b_{3}-b_{1}-b_{2}\\end{array}\\right]$\n",
    "\n",
    "要使方程有解，则$b_{3}-b_{1}-b_{3}=0$，$b$属于$A$的列空间\n",
    "\n",
    "## 解法\n",
    "- 特解 令自由变量为$0$，求出一种特解$x_{p}$\n",
    "- 通解 为特解加上$x$零空间，例如$x=x_{p}+c_{1}x_{n_{1}}+c_2x_{n_{2}}$\n",
    "\n",
    "## 一些结论，对于$Ax=b$的解\n",
    "- 对于$m×n$矩阵，$rank(A)\\leq min\\{m,n\\}$\n",
    "- 列满秩$r=n$，$b$为$A$的列空间有解，解唯一\n",
    "- 行满秩$r=m$，$b$为$R^{m}$都有解\n",
    "\n",
    "\n",
    "- $\\begin{array}{c|c|c|c}r=m=n&r=n<m&r=m<n&r<n,\\ r<m\\\\R=I&R=\\begin{bmatrix}I\\\\0\\end{bmatrix}&R=\\begin{bmatrix}I&F\\end{bmatrix}&\\begin{bmatrix}I&F\\\\0&0\\end{bmatrix}\\\\ 0\\ Solution&0\\ or\\ 1\\ Solution&\\infty\\ Solutions&0\\ or\\ \\infty\\ Solutions\\end{array}$，有$0$行说明可能无解，有$F$说明会有无穷多解"
   ]
  }
 ],
 "metadata": {
  "anaconda-cloud": {},
  "kernelspec": {
   "display_name": "Python [conda root]",
   "language": "python",
   "name": "conda-root-py"
  },
  "language_info": {
   "codemirror_mode": {
    "name": "ipython",
    "version": 2
   },
   "file_extension": ".py",
   "mimetype": "text/x-python",
   "name": "python",
   "nbconvert_exporter": "python",
   "pygments_lexer": "ipython2",
   "version": "2.7.12"
  }
 },
 "nbformat": 4,
 "nbformat_minor": 1
}

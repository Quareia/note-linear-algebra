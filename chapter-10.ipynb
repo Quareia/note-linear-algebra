{
 "cells": [
  {
   "cell_type": "markdown",
   "metadata": {},
   "source": [
    "# chapter-10 四个基本子空间\n",
    "\n",
    "## $m×n$矩阵$A$，$rank(a)=r$\n",
    "- 列空间 $C(A)\\in \\mathbb{R^{m}}$，$dimC(A)=r$\n",
    "- 行空间 $C(A^{T})\\in \\mathbb{R^{n}}$，$dimC(A^{T})=r$\n",
    "- 零空间 $N(A)\\in \\mathbb{R^{n}}$，$dimN(A)=n-r$\n",
    "- 左零空间 $N(A^{T})\\in \\mathbb{R^{m}}$，$dimN(A^{T})=m-r$（行为$0$向量）\n",
    "\n",
    "## 左零空间\n",
    "- $y^{T}A=0^{T}$\n",
    "\n",
    "## 矩阵空间\n",
    "- 类似与向量空间，典型子空间有上三角矩阵、对称矩阵、对角矩阵（前两个的交集）"
   ]
  }
 ],
 "metadata": {
  "anaconda-cloud": {},
  "kernelspec": {
   "display_name": "Python [conda root]",
   "language": "python",
   "name": "conda-root-py"
  },
  "language_info": {
   "codemirror_mode": {
    "name": "ipython",
    "version": 2
   },
   "file_extension": ".py",
   "mimetype": "text/x-python",
   "name": "python",
   "nbconvert_exporter": "python",
   "pygments_lexer": "ipython2",
   "version": "2.7.12"
  }
 },
 "nbformat": 4,
 "nbformat_minor": 1
}

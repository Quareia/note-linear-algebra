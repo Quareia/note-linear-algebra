{
 "cells": [
  {
   "cell_type": "markdown",
   "metadata": {},
   "source": [
    "# chapter-11 矩阵空间、秩1矩阵和小世界图\n",
    "\n",
    "## $n$阶方阵\n",
    "- 对称矩阵子空间 $dimS=\\frac {n(n+1)}2$\n",
    "- 上三角矩阵子空间 $dimU=\\frac {n(n+1)}2$\n",
    "- 对角矩阵子空间 $dimD=n$\n",
    "\n",
    "## 秩1矩阵\n",
    "- $\\begin{bmatrix}1&4&5\\\\2&8&10\\end{bmatrix}=\\begin{bmatrix}1\\\\2\\end{bmatrix}\\begin{bmatrix}1&4&5\\end{bmatrix}$，\n",
    "所有秩1矩阵都可写成$A=UV^{T}$的形式\n",
    "- 子空间相当于向量空间\n",
    "\n",
    "## 小世界图\n",
    "- $Graph=\\{nodes,edges\\}$\n",
    "- 邻接矩阵"
   ]
  }
 ],
 "metadata": {
  "anaconda-cloud": {},
  "kernelspec": {
   "display_name": "Python [conda root]",
   "language": "python",
   "name": "conda-root-py"
  },
  "language_info": {
   "codemirror_mode": {
    "name": "ipython",
    "version": 2
   },
   "file_extension": ".py",
   "mimetype": "text/x-python",
   "name": "python",
   "nbconvert_exporter": "python",
   "pygments_lexer": "ipython2",
   "version": "2.7.12"
  }
 },
 "nbformat": 4,
 "nbformat_minor": 1
}

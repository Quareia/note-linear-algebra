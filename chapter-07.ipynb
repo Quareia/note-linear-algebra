{
 "cells": [
  {
   "cell_type": "markdown",
   "metadata": {},
   "source": [
    "# chapter-07 求解$Ax=0$：主变量，特解\n",
    "\n",
    "$A=\\begin{bmatrix}1&2&2&2\\\\2&4&6&8\\\\3&6&8&10\\end{bmatrix}\\underrightarrow{eliminate}\\begin{bmatrix}\\underline{1}&2&2&2\\\\0&0&\\underline{2}&4\\\\0&0&0&0\\end{bmatrix}=U$\n",
    "\n",
    "- **秩(rank)** 即**主变量(pivot variable)**个数，上例$r=2$，从而主变量在的列称为**主列(pivot column)**，剩余列称为**自由列(free column)**\n",
    "\n",
    "- 将自由变量赋任意值，可以求出唯一确定的主变量的值，一般将其中一个为$1$，其余为$0$，得到一个特解，再用线性组合表示通解。\n",
    "\n",
    "\n",
    "\n",
    "- **$R$矩阵（Reduced row echelon form）**，即简化行阶梯形式，主元为$1$且所在列上下均为$0$ $U=\\begin{bmatrix}\\underline{1}&2&2&2\\\\0&0&\\underline{2}&4\\\\0&0&0&0\\end{bmatrix}\\underrightarrow{eliminate}\\begin{bmatrix}\\underline{1}&2&0&-2\\\\0&0&\\underline{1}&2\\\\0&0&0&0\\end{bmatrix}=R$\n",
    "\n",
    "\n",
    "\n",
    "- $R=\\begin{bmatrix}\\underline{1}&2&0&-2\\\\0&0&\\underline{1}&2\\\\0&0&0&0\\end{bmatrix}=\\left[\\begin{array}{c c | c c}1&0&2&-2\\\\0&1&0&2\\\\\\hline0&0&0&0\\end{array}\\right]=\\left[\\begin{array}{c | c}I&F\\\\\\hline0&0\\end{array}\\right]$，问题转化为$RN=0$\n",
    "\n",
    "\n",
    "- $x_{pivot}=-Fx_{free}$，$N=\\begin{bmatrix}-F\\\\I\\end{bmatrix}$\n",
    "\n",
    "\n"
   ]
  }
 ],
 "metadata": {
  "anaconda-cloud": {},
  "kernelspec": {
   "display_name": "Python [conda root]",
   "language": "python",
   "name": "conda-root-py"
  },
  "language_info": {
   "codemirror_mode": {
    "name": "ipython",
    "version": 2
   },
   "file_extension": ".py",
   "mimetype": "text/x-python",
   "name": "python",
   "nbconvert_exporter": "python",
   "pygments_lexer": "ipython2",
   "version": "2.7.12"
  }
 },
 "nbformat": 4,
 "nbformat_minor": 1
}

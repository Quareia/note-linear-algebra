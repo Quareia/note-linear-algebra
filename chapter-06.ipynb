{
 "cells": [
  {
   "cell_type": "markdown",
   "metadata": {},
   "source": [
    "# chapter-06 列空间和零空间\n",
    "\n",
    "## 列空间\n",
    "\n",
    "- $Ax=b$有解，当且仅当$b$属于$A$的列空间，即各列的线性组合\n",
    "\n",
    "\n",
    "- 对与矩阵$A=\\begin{bmatrix}1&1&2\\\\2&1&3\\\\3&1&4\\\\4&1&5\\end{bmatrix}$，因为有$4$行，所以为四维列空间$R^4$，只有三列，相当于只\n",
    "\n",
    "有三个未知数，并且第三列为第一列和第二列的线性组合，所以此子空间为$R^4$空间中的$R^2$空间\n",
    "\n",
    "## 零空间\n",
    "\n",
    "- 列空间对应$A$，零空间对应$x$，是所有$x$使得$Ax=b$组成的空间"
   ]
  }
 ],
 "metadata": {
  "anaconda-cloud": {},
  "kernelspec": {
   "display_name": "Python [conda root]",
   "language": "python",
   "name": "conda-root-py"
  },
  "language_info": {
   "codemirror_mode": {
    "name": "ipython",
    "version": 2
   },
   "file_extension": ".py",
   "mimetype": "text/x-python",
   "name": "python",
   "nbconvert_exporter": "python",
   "pygments_lexer": "ipython2",
   "version": "2.7.12"
  }
 },
 "nbformat": 4,
 "nbformat_minor": 1
}

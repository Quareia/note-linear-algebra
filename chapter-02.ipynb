{
 "cells": [
  {
   "cell_type": "markdown",
   "metadata": {
    "collapsed": true
   },
   "source": [
    "# chapter-02 矩阵消元\n",
    "\n",
    "## 高斯消元法\n",
    "\n",
    "有三元方程组$\\begin{cases}x&+2y&+z&=2\\\\3x&+8y&+z&=12\\\\&4y&+z&=2\\end{cases}$，对应的矩阵形式$Ax=b$为$\\begin{bmatrix}1&2&1\\\\3&8&1\\\\0&4&1\\end{bmatrix}\\begin{bmatrix}x\\\\y\\\\z\\end{bmatrix}=\\begin{bmatrix}2\\\\12\\\\2\\end{bmatrix}$\n",
    "\n",
    "通过高斯消元法，通过某几行的线性组合消去另某行某列为$0$，从而使得此矩阵的行存在**主元(pivot)**，使得矩阵最终变为一个“阶梯型矩阵”，每一行有且仅有一\n",
    "\n",
    "个主元，特点是主元所在列的其余元素全为$0$，例如上例矩阵可转化为$\\begin{bmatrix}\\underline{1}&2&1\\\\0&\\underline{2}&-2\\\\0&4&1\\end{bmatrix}\\xrightarrow{row_3-2row_2}\\begin{bmatrix}\\underline{1}&2&1\\\\0&\\underline{2}&-2\\\\0&0&\\underline{5}\\end{bmatrix}$。一般，我们将其加上$b$作为**增广矩阵**\n",
    "\n",
    "**(augmented matrix)**，即$\\left[\\begin{array}{c|c}A&b\\end{array}\\right]=\\left[\\begin{array}{ccc|c}1&2&1&2\\\\3&8&1&12\\\\0&4&1&2\\end{array}\\right]\\to\\left[\\begin{array}{ccc|c}1&2&1&2\\\\0&2&-2&6\\\\0&0&5&-10\\end{array}\\right]$\n",
    "\n",
    "通过上述消元，我们可以轻易地自下而上解出方程组。\n",
    "\n",
    "## 消元矩阵\n",
    "\n",
    "- 单位矩阵$I=\\begin{bmatrix}1&0&0\\\\0&1&0\\\\0&0&1\\end{bmatrix}$\n",
    "\n",
    "\n",
    "- $E_1=\\begin{bmatrix}1&0&0\\\\-3&1&0\\\\0&0&1\\end{bmatrix}$\n",
    "\n",
    "\n",
    "- $E_2=\\begin{bmatrix}1&0&0\\\\0&1&0\\\\0&-2&1\\end{bmatrix}$\n",
    "\n",
    "则，$E_2(E_1A) = U = (E_2E_1）A$\n",
    "\n",
    "- **置换矩阵（permutation matrix）**$\\begin{bmatrix}0&1\\\\1&0\\end{bmatrix}\\begin{bmatrix}a&b\\\\c&d\\end{bmatrix}=\\begin{bmatrix}c&d\\\\a&b\\end{bmatrix}$，$\\begin{bmatrix}a&b\\\\c&d\\end{bmatrix}\\begin{bmatrix}0&1\\\\1&0\\end{bmatrix}=\\begin{bmatrix}b&a\\\\d&c\\end{bmatrix}$\n",
    "\n",
    "## 逆\n",
    "\n",
    "$\\Bigg[\\quad ?\\quad \\Bigg]\\begin{bmatrix}1&0&0\\\\-3&1&0\\\\0&0&1\\end{bmatrix}=\\begin{bmatrix}1&0&0\\\\0&1&0\\\\0&0&1\\end{bmatrix}$\n",
    "第二行减去三倍第一行，所以逆为第二行加上三倍第一行\n",
    "\n",
    "$E^{-1} = \\begin{bmatrix}1&0&0\\\\3&1&0\\\\0&0&1\\end{bmatrix}$\n",
    "    \n",
    "我们把矩阵$E$的逆记作$E^{-1}$，所以有$E^{-1}E=I$"
   ]
  }
 ],
 "metadata": {
  "anaconda-cloud": {},
  "kernelspec": {
   "display_name": "Python [conda root]",
   "language": "python",
   "name": "conda-root-py"
  },
  "language_info": {
   "codemirror_mode": {
    "name": "ipython",
    "version": 2
   },
   "file_extension": ".py",
   "mimetype": "text/x-python",
   "name": "python",
   "nbconvert_exporter": "python",
   "pygments_lexer": "ipython2",
   "version": "2.7.12"
  }
 },
 "nbformat": 4,
 "nbformat_minor": 1
}

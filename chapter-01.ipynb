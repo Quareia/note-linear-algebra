{
 "cells": [
  {
   "cell_type": "markdown",
   "metadata": {},
   "source": [
    "# chapter-01 方程组的几何解释"
   ]
  },
  {
   "cell_type": "markdown",
   "metadata": {},
   "source": [
    "对于方程组\n",
    "$\\begin{cases}2x - y = 0\\\\-x + 2y = 3\\\n",
    "\\end{cases}$，将其写成$\\begin{bmatrix}2&-1\\\\-1&2\\\n",
    "\\end{bmatrix}\n",
    "\\begin{bmatrix}x\\\\y\\\n",
    "\\end{bmatrix}=\n",
    "\\begin{bmatrix}0\\\\3\\\n",
    "\\end{bmatrix}$\n",
    "\n",
    "左边的矩阵称为**系数矩阵 $A$(coefficient matrix)**，右边则成为**未知数向量 $x$(vertor of unknowns)**\n",
    "\n",
    "等式右边为向量 $b$，则方程组（矩阵）可写为 $Ax=b$\n",
    "\n",
    "其**行图像(Row Picture)**为"
   ]
  },
  {
   "cell_type": "code",
   "execution_count": 7,
   "metadata": {
    "collapsed": false
   },
   "outputs": [
    {
     "data": {
      "image/png": "[encoded data removed]",
      "text/plain": [
       "<matplotlib.figure.Figure at 0x7fe333109150>"
      ]
     },
     "metadata": {},
     "output_type": "display_data"
    }
   ],
   "source": [
    "%matplotlib inline\n",
    "import matplotlib.pyplot as plt\n",
    "import numpy as np\n",
    "import pandas as pd\n",
    "import seaborn as sns\n",
    "\n",
    "x = [-2, 2, -2, 2]\n",
    "y = [-4, 4, 0.5, 2.5]\n",
    "\n",
    "fig = plt.figure()\n",
    "\n",
    "# 画坐标\n",
    "plt.axhline(y=0, c='black')\n",
    "plt.axvline(x=0, c='black')\n",
    "\n",
    "plt.plot(x[:2], y[:2], x[2:], y[2:])\n",
    "\n",
    "plt.draw()\n"
   ]
  },
  {
   "cell_type": "code",
   "execution_count": 8,
   "metadata": {
    "collapsed": true
   },
   "outputs": [],
   "source": [
    "plt.close(fig)"
   ]
  },
  {
   "cell_type": "markdown",
   "metadata": {},
   "source": [
    "上图我们已经很熟悉了，但**列图像(Column Picture)**更是线性代数里重要的概念内容。我们将方程改写为\n",
    "$x\\begin{bmatrix}2\\\\-1\\\n",
    "\\end{bmatrix}+y\n",
    "\\begin{bmatrix}-1\\\\2\\\n",
    "\\end{bmatrix}=\n",
    "\\begin{bmatrix}0\\\\3\\\n",
    "\\end{bmatrix}$\n",
    "\n",
    "目的是寻找到正确的**线性组合(linear combination)**\n",
    "\n",
    "列图像如下\n"
   ]
  },
  {
   "cell_type": "code",
   "execution_count": 9,
   "metadata": {
    "collapsed": false,
    "scrolled": true
   },
   "outputs": [
    {
     "data": {
      "image/png": "[encoded data removed]",
      "text/plain": [
       "<matplotlib.figure.Figure at 0x7fe332f8fe50>"
      ]
     },
     "metadata": {},
     "output_type": "display_data"
    }
   ],
   "source": [
    "from functools import partial\n",
    "\n",
    "fig = plt.figure()\n",
    "plt.axhline(y=0, c='black')\n",
    "plt.axvline(x=0, c='black')\n",
    "ax = plt.gca()\n",
    "ax.set_xlim(-2.5, 2.5)\n",
    "ax.set_ylim(-3, 4)\n",
    "\n",
    "arrow_vector = partial(plt.arrow, width=0.01, head_width=0.1, head_length=0.2, length_includes_head=True)\n",
    "\n",
    "arrow_vector(0, 0, 2, -1, color='g')\n",
    "arrow_vector(0, 0, -1, 2, color='c')\n",
    "arrow_vector(2, -1, -2, 4, color='b')\n",
    "arrow_vector(0, 0, 0, 3, width=0.05, color='r')\n",
    "\n",
    "plt.draw()"
   ]
  },
  {
   "cell_type": "code",
   "execution_count": 10,
   "metadata": {
    "collapsed": true
   },
   "outputs": [],
   "source": [
    "plt.close(fig)"
   ]
  },
  {
   "cell_type": "markdown",
   "metadata": {},
   "source": [
    "从而，对任意$n$维方程组，将其看为线性组合，则都可在二维平面上以向量方式画出。若要方程组有解，则易知若有三个向量处于同一平面，则若$b$不处于此平面，方程组无解。更一般的，可以理解为其中一个向量可以通过另外向量线性组合得到，则此时相当于一个方程失效。\n",
    "\n",
    "除此之外，对于所有矩阵乘以向量，都会有两种解释方式，第一种为矩阵内积，另一种将其看为线性组合"
   ]
  }
 ],
 "metadata": {
  "anaconda-cloud": {},
  "kernelspec": {
   "display_name": "Python [conda root]",
   "language": "python",
   "name": "conda-root-py"
  },
  "language_info": {
   "codemirror_mode": {
    "name": "ipython",
    "version": 2
   },
   "file_extension": ".py",
   "mimetype": "text/x-python",
   "name": "python",
   "nbconvert_exporter": "python",
   "pygments_lexer": "ipython2",
   "version": "2.7.12"
  }
 },
 "nbformat": 4,
 "nbformat_minor": 1
}

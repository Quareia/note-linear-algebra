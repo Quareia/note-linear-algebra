{
 "cells": [
  {
   "cell_type": "markdown",
   "metadata": {},
   "source": [
    "# chapter-04 $A$的$LU$分解\n",
    "\n",
    "## 矩阵转置与逆的性质\n",
    "\n",
    "$$ A\\cdot A^{-1} = I = A^{-1}\\cdot A$$\n",
    "$$ AB\\cdot (BA)^{-1} = I$$\n",
    "$$ (A\\cdot A^{-1})^{T} = I^{T}$$\n",
    "$$ (A^{-1})^{T} \\cdot A^{T} = I$$\n",
    "\n",
    "## LU分解\n",
    "- $A$ 源矩阵\n",
    "- $L$ 下三角矩阵(lower triangular)\n",
    "- $U$ 上三角矩阵(upper triangular)\n",
    "- $A = LU$，任意非奇异矩阵能写成一个下三角矩阵和一个上三角矩阵的乘积，因为可以通过一系列下三角矩阵将$A$变为一个上三角矩阵(阶梯型)，所以可以将一系列下三角矩阵乘起来成为一个下三角矩阵。LU分解的意义如下\n",
    "\n",
    "$\\qquad E_{32}\\qquad\\qquad E_{21}$\n",
    "\n",
    "$\\begin{bmatrix}1&0&0\\\\0&1&0\\\\0&-5&1\\end{bmatrix}\\begin{bmatrix}1&0&0\\\\-2&1&0\\\\0&0&1\\end{bmatrix}=\\begin{bmatrix}1&0&0\\\\-2&1&0\\\\10&-5&1\\end{bmatrix}=E$\n",
    "\n",
    "$\\qquad E_{21}^{-1}\\qquad\\quad E_{32}^{-1}$\n",
    "\n",
    "$\\begin{bmatrix}1&0&0\\\\2&1&0\\\\0&0&1\\end{bmatrix}\\begin{bmatrix}1&0&0\\\\0&1&0\\\\0&5&1\\end{bmatrix}=\\begin{bmatrix}1&0&0\\\\2&1&0\\\\0&5&1\\end{bmatrix}=L$\n",
    "\n",
    "通过交换$E$的顺序，我们避免了”$10$“的出现，使得$L$为所有$E$的逆的直接合并，matlab就使用这样的方法\n",
    "\n",
    "## 计算量\n",
    "$\\sum_{i=1}^n{(i-1)^2} = O(n^3)$\n",
    "\n",
    "## 置换矩阵(Permutation Matrix)\n",
    "- 每一行每一列有且仅有一个$1$\n",
    "- n阶方阵共有$n!$个置换矩阵"
   ]
  }
 ],
 "metadata": {
  "anaconda-cloud": {},
  "kernelspec": {
   "display_name": "Python [conda root]",
   "language": "python",
   "name": "conda-root-py"
  },
  "language_info": {
   "codemirror_mode": {
    "name": "ipython",
    "version": 2
   },
   "file_extension": ".py",
   "mimetype": "text/x-python",
   "name": "python",
   "nbconvert_exporter": "python",
   "pygments_lexer": "ipython2",
   "version": "2.7.12"
  }
 },
 "nbformat": 4,
 "nbformat_minor": 1
}

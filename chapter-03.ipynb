{
 "cells": [
  {
   "cell_type": "markdown",
   "metadata": {},
   "source": [
    "# chapter-03 乘法和逆矩阵\n",
    "\n",
    "## 矩阵内积、卷积 \n",
    "- $c_{ij}=row_i\\cdot column_j=\\sum_{k=i}^na_{ik}b_{kj}$\n",
    "\n",
    "## 矩阵的逆\n",
    "- 对于方阵，左逆等于右逆，非方阵不相等\n",
    "- 判定矩阵无逆的两个简单方法，以矩阵$\\begin{bmatrix}1&3\\\\2&6\\end{bmatrix}$"
   ]
  },
  {
   "cell_type": "markdown",
   "metadata": {},
   "source": [
    "\n",
    "1. 视为列的线性组合，无法做到为单位矩阵\n",
    "2. 若$x\\not=0$，$Ax=0$，则$A^{-1}\\cdot Ax=0$，$x=0$，矛盾。\n",
    "\n",
    "- **高斯-若尔当（Gauss-Jordan）**方法\n",
    "\n",
    "$\\left[\\begin{array}{cc|cc}1&3&1&0\\\\2&7&0&1\\end{array}\\right]\\xrightarrow{row_2-2row_1}\\left[\\begin{array}{cc|cc}1&3&1&0\\\\0&1&-2&1\\end{array}\\right]\\xrightarrow{row_1-3row_2}\\left[\\begin{array}{cc|cc}1&0&7&-3\\\\0&1&-2&1\\end{array}\\right]$\n",
    "\n",
    "通过上例我们看到，使用增广矩阵的方式，用单位矩阵记录下转变过程，自然而然得到了矩阵的逆"
   ]
  }
 ],
 "metadata": {
  "anaconda-cloud": {},
  "kernelspec": {
   "display_name": "Python [conda root]",
   "language": "python",
   "name": "conda-root-py"
  },
  "language_info": {
   "codemirror_mode": {
    "name": "ipython",
    "version": 2
   },
   "file_extension": ".py",
   "mimetype": "text/x-python",
   "name": "python",
   "nbconvert_exporter": "python",
   "pygments_lexer": "ipython2",
   "version": "2.7.12"
  }
 },
 "nbformat": 4,
 "nbformat_minor": 1
}

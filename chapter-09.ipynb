{
 "cells": [
  {
   "cell_type": "markdown",
   "metadata": {},
   "source": [
    "# chapter-09 线性相关性、基、维数\n",
    "\n",
    "\n",
    "## $m×n$矩阵$A$\n",
    "- 列满秩$\\ \\Leftrightarrow\\ $各向量线性无关$\\ \\Leftrightarrow r=n$\n",
    "- $r<n\\Leftrightarrow$ 存在非零解使$Ax=0$成立\n",
    "\n",
    "## 基（basis）\n",
    "向量空间中一组基的性质\n",
    "1. 线性无关\n",
    "2. 可以生成基空间\n",
    "\n",
    "## 维数（dimension）\n",
    "向量空间$\\mathbb{R^{n}}$的$n$\n",
    "\n",
    "## 结论\n",
    "1. $rank(A)=dimC(A)$ 列空间维数\n",
    "2. $n-rank(A)=dimN(A)$ 零空间维数（=自由变量个数）"
   ]
  }
 ],
 "metadata": {
  "anaconda-cloud": {},
  "kernelspec": {
   "display_name": "Python [conda root]",
   "language": "python",
   "name": "conda-root-py"
  },
  "language_info": {
   "codemirror_mode": {
    "name": "ipython",
    "version": 2
   },
   "file_extension": ".py",
   "mimetype": "text/x-python",
   "name": "python",
   "nbconvert_exporter": "python",
   "pygments_lexer": "ipython2",
   "version": "2.7.12"
  }
 },
 "nbformat": 4,
 "nbformat_minor": 1
}

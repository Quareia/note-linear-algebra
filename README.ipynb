{
 "cells": [
  {
   "cell_type": "markdown",
   "metadata": {},
   "source": [
    "# note-linear-algebra\n"
   ]
  },
  {
   "cell_type": "markdown",
   "metadata": {},
   "source": [
    "## Overview\n",
    "- @Quareia\n",
    "\n",
    "- writen by jupyter notebook"
   ]
  },
  {
   "cell_type": "markdown",
   "metadata": {},
   "source": [
    "## Content\n",
    "- 01 [方程组的几何解释](chapter-01.ipynb)\n",
    "- 02 [矩阵消元](chapter-02.ipynb)\n",
    "- 03 [乘法和逆矩阵](chapter-03.ipynb)\n",
    "- 04 [$A$的$LU$分解](chapter-04.ipynb)\n",
    "- 05 [转置-置换-向量空间$R$](chapter-05.ipynb)\n",
    "- 06 [列空间和零空间](chapter-06.ipynb)\n",
    "- 07 [求解$Ax=0$：主变量，特解](chapter-07.ipynb)\n",
    "- 08 [求解$Ax=b$：可解性和解的结构](chapter-08.ipynb)"
   ]
  }
 ],
 "metadata": {
  "anaconda-cloud": {},
  "kernelspec": {
   "display_name": "Python [conda root]",
   "language": "python",
   "name": "conda-root-py"
  },
  "language_info": {
   "codemirror_mode": {
    "name": "ipython",
    "version": 2
   },
   "file_extension": ".py",
   "mimetype": "text/x-python",
   "name": "python",
   "nbconvert_exporter": "python",
   "pygments_lexer": "ipython2",
   "version": "2.7.12"
  }
 },
 "nbformat": 4,
 "nbformat_minor": 1
}

{
 "cells": [
  {
   "cell_type": "markdown",
   "metadata": {},
   "source": [
    "# chapter-05 转置-置换-向量空间R\n",
    "\n",    
    "## 置换矩阵(Permutation Matrix)\n",
    "- 上一节说过，共有$n!$个置换矩阵\n",
    "- $PA=LU$\n",
    "- $P^TP=I$，即$P^T=P^{-1}$\n",
    "\n",
    "## 转置矩阵(Transpose Matrix)\n",
    "- $(A_{ij})^T=A_{ji}$\n",
    "\n",
    "## 对称矩阵(Symmetric Matrix)\n",
    "- $A^T=A$\n",
    "- 对任意矩阵$R$，都有(R^TR)为对称矩阵，证明：$(R^TR)^T=R^TR$\n",
    "\n",
    "## 向量空间(Vector Space)\n",
    "- $R^n$，$n$维向量组成的空间，闭包\n",
    "- 子空间 能进行闭包操作，所以$R^2$的子空间有$R^2$、过原点直线和零向量；$R^3$的子空间有$R^3$、过原点平面、过原点直线和零向量\n"
   ]
  }
 ],
 "metadata": {
  "anaconda-cloud": {},
  "kernelspec": {
   "display_name": "Python [conda root]",
   "language": "python",
   "name": "conda-root-py"
  },
  "language_info": {
   "codemirror_mode": {
    "name": "ipython",
    "version": 2
   },
   "file_extension": ".py",
   "mimetype": "text/x-python",
   "name": "python",
   "nbconvert_exporter": "python",
   "pygments_lexer": "ipython2",
   "version": "2.7.12"
  }
 },
 "nbformat": 4,
 "nbformat_minor": 1
}
